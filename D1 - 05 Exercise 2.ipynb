{
 "cells": [
  {
   "cell_type": "markdown",
   "metadata": {},
   "source": [
    "# Exercise\n",
    "\n",
    "\n",
    "Use this dataset: \n",
    "https://raw.githubusercontent.com/abulbasar/data/master/Combined_Cycle_Power_Plant.csv\n",
    "\n",
    "Description of the dataset\n",
    "http://archive.ics.uci.edu/ml/datasets/combined+cycle+power+plant\n",
    "\n",
    "Steps\n",
    "1. Load the dataset\n",
    "2. Apply one-hot-encoding if necessary\n",
    "3. Divide the database into training and test set using random seed 1 and test size = 0.3\n",
    "4. Normalize the training dataset\n",
    "5. Fit a linear regression model\n",
    "6. Apply fitted standard scaler on the testing dataset\n",
    "7. Find prediction on test dataset\n",
    "9. Find RMSE \n",
    "\n",
    "Note: there is a small deviation\n"
   ]
  },
  {
   "cell_type": "code",
   "execution_count": null,
   "metadata": {},
   "outputs": [],
   "source": []
  }
 ],
 "metadata": {
  "kernelspec": {
   "display_name": "Python 3",
   "language": "python",
   "name": "python3"
  },
  "language_info": {
   "codemirror_mode": {
    "name": "ipython",
    "version": 3
   },
   "file_extension": ".py",
   "mimetype": "text/x-python",
   "name": "python",
   "nbconvert_exporter": "python",
   "pygments_lexer": "ipython3",
   "version": "3.6.4"
  }
 },
 "nbformat": 4,
 "nbformat_minor": 2
}
